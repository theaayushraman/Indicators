{
  "nbformat": 4,
  "nbformat_minor": 0,
  "metadata": {
    "colab": {
      "provenance": [],
      "authorship_tag": "ABX9TyNg/L3sMj96W4goP//kPd69",
      "include_colab_link": true
    },
    "kernelspec": {
      "name": "python3",
      "display_name": "Python 3"
    },
    "language_info": {
      "name": "python"
    }
  },
  "cells": [
    {
      "cell_type": "markdown",
      "metadata": {
        "id": "view-in-github",
        "colab_type": "text"
      },
      "source": [
        "<a href=\"https://colab.research.google.com/github/theaayushraman/Indicators/blob/main/Bollinger_Band.ipynb\" target=\"_parent\"><img src=\"https://colab.research.google.com/assets/colab-badge.svg\" alt=\"Open In Colab\"/></a>"
      ]
    },
    {
      "cell_type": "code",
      "execution_count": 1,
      "metadata": {
        "id": "T-31JuXsu4-t"
      },
      "outputs": [],
      "source": [
        "import yfinance as yf"
      ]
    },
    {
      "cell_type": "code",
      "source": [
        "tickers = [\"MSFT\",\"AAPL\",\"GOOG\"]\n",
        "ohlcv_data = {}"
      ],
      "metadata": {
        "id": "pP0DkYGLu8z1"
      },
      "execution_count": 2,
      "outputs": []
    },
    {
      "cell_type": "code",
      "source": [
        "for ticker in tickers:\n",
        "    temp = yf.download(ticker,period='1mo',interval='15m')\n",
        "    temp.dropna(how=\"any\",inplace=True)\n",
        "    ohlcv_data[ticker] = temp"
      ],
      "metadata": {
        "colab": {
          "base_uri": "https://localhost:8080/"
        },
        "id": "iQ8RWlk1u82p",
        "outputId": "e892485c-ca4a-43e0-8abe-4d1201f70e2c"
      },
      "execution_count": 3,
      "outputs": [
        {
          "output_type": "stream",
          "name": "stdout",
          "text": [
            "[*********************100%%**********************]  1 of 1 completed\n",
            "[*********************100%%**********************]  1 of 1 completed\n",
            "[*********************100%%**********************]  1 of 1 completed\n"
          ]
        }
      ]
    },
    {
      "cell_type": "code",
      "source": [
        "def Boll_Band(DF, n=14):\n",
        "    \"function to calculate Bollinger Band\"\n",
        "    df = DF.copy()\n",
        "    df[\"MB\"] = df[\"Adj Close\"].rolling(n).mean()\n",
        "    df[\"UB\"] = df[\"MB\"] + 2*df[\"Adj Close\"].rolling(n).std(ddof=0)\n",
        "    df[\"LB\"] = df[\"MB\"] - 2*df[\"Adj Close\"].rolling(n).std(ddof=0)\n",
        "    df[\"BB_Width\"] = df[\"UB\"] - df[\"LB\"]\n",
        "    return df[[\"MB\",\"UB\",\"LB\",\"BB_Width\"]]"
      ],
      "metadata": {
        "id": "s6aP2TaZu85D"
      },
      "execution_count": 4,
      "outputs": []
    },
    {
      "cell_type": "code",
      "source": [
        "for ticker in ohlcv_data:\n",
        "    ohlcv_data[ticker][[\"MB\",\"UB\",\"LB\",\"BB_Width\"]] = Boll_Band(ohlcv_data[ticker])"
      ],
      "metadata": {
        "id": "Uhp22DiBu8-l"
      },
      "execution_count": 5,
      "outputs": []
    }
  ]
}