{
  "nbformat": 4,
  "nbformat_minor": 0,
  "metadata": {
    "colab": {
      "provenance": [],
      "authorship_tag": "ABX9TyO1ALwRiJ8LPO615dT0LVRt",
      "include_colab_link": true
    },
    "kernelspec": {
      "name": "python3",
      "display_name": "Python 3"
    },
    "language_info": {
      "name": "python"
    }
  },
  "cells": [
    {
      "cell_type": "markdown",
      "metadata": {
        "id": "view-in-github",
        "colab_type": "text"
      },
      "source": [
        "<a href=\"https://colab.research.google.com/github/theaayushraman/Indicators/blob/main/ATR.ipynb\" target=\"_parent\"><img src=\"https://colab.research.google.com/assets/colab-badge.svg\" alt=\"Open In Colab\"/></a>"
      ]
    },
    {
      "cell_type": "code",
      "execution_count": null,
      "metadata": {
        "id": "dNC9U4lRqWhC"
      },
      "outputs": [],
      "source": [
        "import yfinance as yf"
      ]
    },
    {
      "cell_type": "code",
      "source": [
        "tickers = [\"MSFT\",\"AAPL\",\"GOOG\"]\n",
        "ohlcv_data = {}"
      ],
      "metadata": {
        "id": "r8Orfmwtqdyq"
      },
      "execution_count": null,
      "outputs": []
    },
    {
      "cell_type": "code",
      "source": [
        "for ticker in tickers:\n",
        "    temp = yf.download(ticker,period='1mo',interval='15m')\n",
        "    temp.dropna(how=\"any\",inplace=True)\n",
        "    ohlcv_data[ticker] = temp"
      ],
      "metadata": {
        "colab": {
          "base_uri": "https://localhost:8080/"
        },
        "id": "n6dHxkQcqd1V",
        "outputId": "d7e2e1ef-2017-4f51-cef6-1c76cdfe11d0"
      },
      "execution_count": null,
      "outputs": [
        {
          "output_type": "stream",
          "name": "stdout",
          "text": [
            "[*********************100%%**********************]  1 of 1 completed\n",
            "[*********************100%%**********************]  1 of 1 completed\n",
            "[*********************100%%**********************]  1 of 1 completed\n"
          ]
        }
      ]
    },
    {
      "cell_type": "code",
      "source": [
        "def ATR(DF, n=14):\n",
        "    \"function to calculate True Range and Average True Range\"\n",
        "    df = DF.copy()\n",
        "    df[\"H-L\"] = df[\"High\"] - df[\"Low\"]\n",
        "    df[\"H-PC\"] = abs(df[\"High\"] - df[\"Adj Close\"].shift(1))\n",
        "    df[\"L-PC\"] = abs(df[\"Low\"] - df[\"Adj Close\"].shift(1))\n",
        "    df[\"TR\"] = df[[\"H-L\",\"H-PC\",\"L-PC\"]].max(axis=1, skipna=False)\n",
        "    df[\"ATR\"] = df[\"TR\"].ewm(com=n, min_periods=n).mean() #for ema you must use span instead of com but com gives better results than span ... the only difference in these 2 is the mathematical formulas\n",
        "\n",
        "    return df[\"ATR\"]"
      ],
      "metadata": {
        "id": "Rd0oceaYqd3i"
      },
      "execution_count": null,
      "outputs": []
    },
    {
      "cell_type": "code",
      "source": [
        "for ticker in ohlcv_data:\n",
        "    ohlcv_data[ticker][\"ATR\"] = ATR(ohlcv_data[ticker])"
      ],
      "metadata": {
        "id": "-HZe-1vTu0Vp"
      },
      "execution_count": null,
      "outputs": []
    }
  ]
}