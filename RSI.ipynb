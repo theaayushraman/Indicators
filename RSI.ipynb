{
  "nbformat": 4,
  "nbformat_minor": 0,
  "metadata": {
    "colab": {
      "provenance": [],
      "authorship_tag": "ABX9TyOkPD4TRVAMN3Rz2d7iPtM4",
      "include_colab_link": true
    },
    "kernelspec": {
      "name": "python3",
      "display_name": "Python 3"
    },
    "language_info": {
      "name": "python"
    }
  },
  "cells": [
    {
      "cell_type": "markdown",
      "metadata": {
        "id": "view-in-github",
        "colab_type": "text"
      },
      "source": [
        "<a href=\"https://colab.research.google.com/github/theaayushraman/Indicators/blob/main/RSI.ipynb\" target=\"_parent\"><img src=\"https://colab.research.google.com/assets/colab-badge.svg\" alt=\"Open In Colab\"/></a>"
      ]
    },
    {
      "cell_type": "code",
      "execution_count": 8,
      "metadata": {
        "id": "yOzCRChcNQBV"
      },
      "outputs": [],
      "source": [
        "import yfinance as yf\n",
        "import numpy as np"
      ]
    },
    {
      "cell_type": "code",
      "source": [
        "tickers = [\"MSFT\",\"AAPL\",\"GOOG\"]\n",
        "ohlcv_data = {}"
      ],
      "metadata": {
        "id": "LByEeyGwWOMR"
      },
      "execution_count": 9,
      "outputs": []
    },
    {
      "cell_type": "code",
      "source": [
        "\n",
        "for ticker in tickers:\n",
        "    temp = yf.download(ticker,period='1mo',interval='15m')\n",
        "    temp.dropna(how=\"any\",inplace=True)\n",
        "    ohlcv_data[ticker] = temp"
      ],
      "metadata": {
        "colab": {
          "base_uri": "https://localhost:8080/"
        },
        "id": "Q-vxGoafWSxW",
        "outputId": "37d9c030-39de-4f9f-f069-1068e4b17c0f"
      },
      "execution_count": 10,
      "outputs": [
        {
          "output_type": "stream",
          "name": "stdout",
          "text": [
            "[*********************100%%**********************]  1 of 1 completed\n",
            "[*********************100%%**********************]  1 of 1 completed\n",
            "[*********************100%%**********************]  1 of 1 completed\n"
          ]
        }
      ]
    },
    {
      "cell_type": "code",
      "source": [
        "def RSI(DF, n=14):\n",
        "    \"function to calculate RSI\"\n",
        "    df = DF.copy()\n",
        "    df[\"change\"] = df[\"Adj Close\"] - df[\"Adj Close\"].shift(1)\n",
        "    df[\"gain\"] = np.where(df[\"change\"]>=0, df[\"change\"], 0)\n",
        "    df[\"loss\"] = np.where(df[\"change\"]<0, -1*df[\"change\"], 0)\n",
        "    df[\"avgGain\"] = df[\"gain\"].ewm(alpha=1/n, min_periods=n).mean()\n",
        "    df[\"avgLoss\"] = df[\"loss\"].ewm(alpha=1/n, min_periods=n).mean()\n",
        "    df[\"rs\"] = df[\"avgGain\"]/df[\"avgLoss\"]\n",
        "    df[\"rsi\"] = 100 - (100/ (1 + df[\"rs\"]))\n",
        "    return df[\"rsi\"]"
      ],
      "metadata": {
        "id": "0dscM0nBYuYx"
      },
      "execution_count": 11,
      "outputs": []
    },
    {
      "cell_type": "code",
      "source": [
        "for ticker in ohlcv_data:\n",
        "    ohlcv_data[ticker][\"RSI\"] = RSI(ohlcv_data[ticker])"
      ],
      "metadata": {
        "id": "J51Rqxm2Yxx2"
      },
      "execution_count": 12,
      "outputs": []
    }
  ]
}