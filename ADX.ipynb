{
  "nbformat": 4,
  "nbformat_minor": 0,
  "metadata": {
    "colab": {
      "provenance": [],
      "authorship_tag": "ABX9TyNJHxqdkUJwrknyQ5lGsZ30",
      "include_colab_link": true
    },
    "kernelspec": {
      "name": "python3",
      "display_name": "Python 3"
    },
    "language_info": {
      "name": "python"
    }
  },
  "cells": [
    {
      "cell_type": "markdown",
      "metadata": {
        "id": "view-in-github",
        "colab_type": "text"
      },
      "source": [
        "<a href=\"https://colab.research.google.com/github/theaayushraman/Indicators/blob/main/ADX.ipynb\" target=\"_parent\"><img src=\"https://colab.research.google.com/assets/colab-badge.svg\" alt=\"Open In Colab\"/></a>"
      ]
    },
    {
      "cell_type": "code",
      "execution_count": 1,
      "metadata": {
        "id": "b12L6-T7gphw"
      },
      "outputs": [],
      "source": [
        "import yfinance as yf\n",
        "import numpy as np"
      ]
    },
    {
      "cell_type": "code",
      "source": [
        "tickers = [\"MSFT\",\"AAPL\",\"GOOG\"]\n",
        "ohlcv_data = {}"
      ],
      "metadata": {
        "id": "w19L_Pp_gxfe"
      },
      "execution_count": 2,
      "outputs": []
    },
    {
      "cell_type": "code",
      "source": [
        "\n",
        "for ticker in tickers:\n",
        "    temp = yf.download(ticker,period='1mo',interval='15m')\n",
        "    temp.dropna(how=\"any\",inplace=True)\n",
        "    ohlcv_data[ticker] = temp"
      ],
      "metadata": {
        "colab": {
          "base_uri": "https://localhost:8080/"
        },
        "id": "xzDTDC6VgzRE",
        "outputId": "9f5c082f-f458-49eb-87a0-48f2c8f59986"
      },
      "execution_count": 3,
      "outputs": [
        {
          "output_type": "stream",
          "name": "stdout",
          "text": [
            "[*********************100%%**********************]  1 of 1 completed\n",
            "[*********************100%%**********************]  1 of 1 completed\n",
            "[*********************100%%**********************]  1 of 1 completed\n"
          ]
        }
      ]
    },
    {
      "cell_type": "code",
      "source": [
        "def ATR(DF, n=14):\n",
        "    \"function to calculate True Range and Average True Range\"\n",
        "    df = DF.copy()\n",
        "    df[\"H-L\"] = df[\"High\"] - df[\"Low\"]\n",
        "    df[\"H-PC\"] = abs(df[\"High\"] - df[\"Adj Close\"].shift(1))\n",
        "    df[\"L-PC\"] = abs(df[\"Low\"] - df[\"Adj Close\"].shift(1))\n",
        "    df[\"TR\"] = df[[\"H-L\",\"H-PC\",\"L-PC\"]].max(axis=1, skipna=False)\n",
        "    df[\"ATR\"] = df[\"TR\"].ewm(com=n, min_periods=n).mean()\n",
        "    return df[\"ATR\"]"
      ],
      "metadata": {
        "id": "tk2zVFddg18l"
      },
      "execution_count": 4,
      "outputs": []
    },
    {
      "cell_type": "code",
      "source": [
        "def ADX(DF, n=20):\n",
        "    \"function to calculate ADX\"\n",
        "    df = DF.copy()\n",
        "    df[\"ATR\"] = ATR(DF, n)\n",
        "    df[\"upmove\"] = df[\"High\"] - df[\"High\"].shift(1)\n",
        "    df[\"downmove\"] = df[\"Low\"].shift(1) - df[\"Low\"]\n",
        "    df[\"+dm\"] = np.where((df[\"upmove\"]>df[\"downmove\"]) & (df[\"upmove\"] >0), df[\"upmove\"], 0)\n",
        "    df[\"-dm\"] = np.where((df[\"downmove\"]>df[\"upmove\"]) & (df[\"downmove\"] >0), df[\"downmove\"], 0)\n",
        "    df[\"+di\"] = 100 * (df[\"+dm\"]/df[\"ATR\"]).ewm(alpha=1/n, min_periods=n).mean()\n",
        "    df[\"-di\"] = 100 * (df[\"-dm\"]/df[\"ATR\"]).ewm(alpha=1/n, min_periods=n).mean()\n",
        "    df[\"ADX\"] = 100* abs((df[\"+di\"] - df[\"-di\"])/(df[\"+di\"] + df[\"-di\"])).ewm(alpha=1/n, min_periods=n).mean()\n",
        "    return df[\"ADX\"]"
      ],
      "metadata": {
        "id": "zCpFwxLbg4W1"
      },
      "execution_count": 5,
      "outputs": []
    },
    {
      "cell_type": "code",
      "source": [
        "for ticker in ohlcv_data:\n",
        "    ohlcv_data[ticker][\"ADX\"] = ADX(ohlcv_data[ticker],20)"
      ],
      "metadata": {
        "id": "2ytQK6gVg6PV"
      },
      "execution_count": 6,
      "outputs": []
    }
  ]
}