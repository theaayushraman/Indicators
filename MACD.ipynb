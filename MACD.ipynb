{
  "nbformat": 4,
  "nbformat_minor": 0,
  "metadata": {
    "colab": {
      "provenance": [],
      "authorship_tag": "ABX9TyPChHtWMOlyJ/3GjVjnLsRE",
      "include_colab_link": true
    },
    "kernelspec": {
      "name": "python3",
      "display_name": "Python 3"
    },
    "language_info": {
      "name": "python"
    }
  },
  "cells": [
    {
      "cell_type": "markdown",
      "metadata": {
        "id": "view-in-github",
        "colab_type": "text"
      },
      "source": [
        "<a href=\"https://colab.research.google.com/github/theaayushraman/Indicators/blob/main/MACD.ipynb\" target=\"_parent\"><img src=\"https://colab.research.google.com/assets/colab-badge.svg\" alt=\"Open In Colab\"/></a>"
      ]
    },
    {
      "cell_type": "code",
      "execution_count": null,
      "metadata": {
        "id": "ltwO6Xu_lidF"
      },
      "outputs": [],
      "source": [
        "import yfinance as yf"
      ]
    },
    {
      "cell_type": "code",
      "source": [
        "tickers = [\"MSFT\",\"AAPL\",\"GOOG\"]\n",
        "ohlcv_data = {}"
      ],
      "metadata": {
        "id": "vpmdTXpUlxoQ"
      },
      "execution_count": null,
      "outputs": []
    },
    {
      "cell_type": "code",
      "source": [
        "for ticker in tickers:\n",
        "    temp = yf.download(ticker,period='1mo',interval='15m')\n",
        "    temp.dropna(how=\"any\",inplace=True)\n",
        "    ohlcv_data[ticker] = temp"
      ],
      "metadata": {
        "colab": {
          "base_uri": "https://localhost:8080/"
        },
        "id": "Yq5FbxYClxv0",
        "outputId": "01fc589d-6625-4bd0-cd15-1c876c75038d"
      },
      "execution_count": null,
      "outputs": [
        {
          "output_type": "stream",
          "name": "stdout",
          "text": [
            "[*********************100%%**********************]  1 of 1 completed\n",
            "[*********************100%%**********************]  1 of 1 completed\n",
            "[*********************100%%**********************]  1 of 1 completed\n"
          ]
        }
      ]
    },
    {
      "cell_type": "code",
      "source": [
        "def MACD(DF, a=12 ,b=26, c=9):\n",
        "    \"\"\"function to calculate MACD\n",
        "       typical values a(fast moving average) = 12;\n",
        "                      b(slow moving average) =26;\n",
        "                      c(signal line ma window) =9\"\"\"\n",
        "    df = DF.copy()\n",
        "    df[\"ma_fast\"] = df[\"Adj Close\"].ewm(span=a, min_periods=a).mean() #calculation of exponential moving average\n",
        "    df[\"ma_slow\"] = df[\"Adj Close\"].ewm(span=b, min_periods=b).mean()\n",
        "    df[\"macd\"] = df[\"ma_fast\"] - df[\"ma_slow\"]\n",
        "    df[\"signal\"] = df[\"macd\"].ewm(span=c, min_periods=c).mean()\n",
        "    return df.loc[:,[\"macd\",\"signal\"]]"
      ],
      "metadata": {
        "id": "6Z-HPoDYlxyu"
      },
      "execution_count": null,
      "outputs": []
    },
    {
      "cell_type": "code",
      "source": [
        "for ticker in ohlcv_data:\n",
        "    ohlcv_data[ticker][[\"MACD\",\"SIGNAL\"]] = MACD(ohlcv_data[ticker], a=12 ,b=26, c=9)"
      ],
      "metadata": {
        "id": "q3agYoKtlx1i"
      },
      "execution_count": null,
      "outputs": []
    },
    {
      "cell_type": "code",
      "source": [],
      "metadata": {
        "id": "h8o6LolClx7_"
      },
      "execution_count": null,
      "outputs": []
    }
  ]
}